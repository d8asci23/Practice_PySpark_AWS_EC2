{
  "nbformat": 4,
  "nbformat_minor": 0,
  "metadata": {
    "colab": {
      "name": "FirstEX_LinearGression.ipynb",
      "provenance": [],
      "collapsed_sections": []
    },
    "kernelspec": {
      "name": "python3",
      "display_name": "Python 3"
    }
  },
  "cells": [
    {
      "cell_type": "code",
      "metadata": {
        "id": "_CzA2EAuEYKM",
        "colab_type": "code",
        "colab": {}
      },
      "source": [
        "# Running PySpark at Google Colab\n",
        "!apt-get install openjdk-8-jdk-headless -qq > /dev/null\n",
        "!wget -q https://downloads.apache.org/spark/spark-3.0.0-preview2/spark-3.0.0-preview2-bin-hadoop2.7.tgz\n",
        "!tar -xvf spark-3.0.0-preview2-bin-hadoop2.7.tgz\n",
        "!pip install -q findspark"
      ],
      "execution_count": 0,
      "outputs": []
    },
    {
      "cell_type": "code",
      "metadata": {
        "id": "ZY1iaOlmEZ0Y",
        "colab_type": "code",
        "colab": {}
      },
      "source": [
        "import os\n",
        "os.environ[\"JAVA_HOME\"] = \"/usr/lib/jvm/java-8-openjdk-amd64\"\n",
        "os.environ[\"SPARK_HOME\"] = \"/content/spark-3.0.0-preview2-bin-hadoop2.7\""
      ],
      "execution_count": 0,
      "outputs": []
    },
    {
      "cell_type": "code",
      "metadata": {
        "id": "F7UufqutGBrL",
        "colab_type": "code",
        "colab": {}
      },
      "source": [
        "import findspark\n",
        "findspark.init()\n",
        "from pyspark.sql import SparkSession\n",
        "\n"
      ],
      "execution_count": 0,
      "outputs": []
    },
    {
      "cell_type": "code",
      "metadata": {
        "id": "VMgZJPcI8P-B",
        "colab_type": "code",
        "colab": {}
      },
      "source": [
        "spark = SparkSession.builder.appName(\"lrex\").getOrCreate()"
      ],
      "execution_count": 0,
      "outputs": []
    },
    {
      "cell_type": "code",
      "metadata": {
        "id": "r09uSqKJA3xC",
        "colab_type": "code",
        "colab": {}
      },
      "source": [
        "from pyspark.ml.regression import LinearRegression"
      ],
      "execution_count": 0,
      "outputs": []
    },
    {
      "cell_type": "code",
      "metadata": {
        "id": "1ZF0h2DtA__T",
        "colab_type": "code",
        "colab": {}
      },
      "source": [
        "training = spark.read.format('libsvm').option(\"numFeatures\",\"10\").load('/content/drive/My Drive/Colab Notebooks/sample_linear_regression_data.txt')\n",
        "# Try the path without any space"
      ],
      "execution_count": 0,
      "outputs": []
    },
    {
      "cell_type": "code",
      "metadata": {
        "id": "t5AatnMNGFxU",
        "colab_type": "code",
        "colab": {
          "base_uri": "https://localhost:8080/",
          "height": 459
        },
        "outputId": "3b8dc748-daba-4f6a-b3d8-84feb1883866"
      },
      "source": [
        "training.show()"
      ],
      "execution_count": 19,
      "outputs": [
        {
          "output_type": "stream",
          "text": [
            "+-------------------+--------------------+\n",
            "|              label|            features|\n",
            "+-------------------+--------------------+\n",
            "| -9.490009878824548|(10,[0,1,2,3,4,5,...|\n",
            "| 0.2577820163584905|(10,[0,1,2,3,4,5,...|\n",
            "| -4.438869807456516|(10,[0,1,2,3,4,5,...|\n",
            "|-19.782762789614537|(10,[0,1,2,3,4,5,...|\n",
            "| -7.966593841555266|(10,[0,1,2,3,4,5,...|\n",
            "| -7.896274316726144|(10,[0,1,2,3,4,5,...|\n",
            "| -8.464803554195287|(10,[0,1,2,3,4,5,...|\n",
            "| 2.1214592666251364|(10,[0,1,2,3,4,5,...|\n",
            "| 1.0720117616524107|(10,[0,1,2,3,4,5,...|\n",
            "|-13.772441561702871|(10,[0,1,2,3,4,5,...|\n",
            "| -5.082010756207233|(10,[0,1,2,3,4,5,...|\n",
            "|  7.887786536531237|(10,[0,1,2,3,4,5,...|\n",
            "| 14.323146365332388|(10,[0,1,2,3,4,5,...|\n",
            "|-20.057482615789212|(10,[0,1,2,3,4,5,...|\n",
            "|-0.8995693247765151|(10,[0,1,2,3,4,5,...|\n",
            "| -19.16829262296376|(10,[0,1,2,3,4,5,...|\n",
            "|  5.601801561245534|(10,[0,1,2,3,4,5,...|\n",
            "|-3.2256352187273354|(10,[0,1,2,3,4,5,...|\n",
            "| 1.5299675726687754|(10,[0,1,2,3,4,5,...|\n",
            "| -0.250102447941961|(10,[0,1,2,3,4,5,...|\n",
            "+-------------------+--------------------+\n",
            "only showing top 20 rows\n",
            "\n"
          ],
          "name": "stdout"
        }
      ]
    },
    {
      "cell_type": "code",
      "metadata": {
        "id": "GG9j7d6BIIzb",
        "colab_type": "code",
        "colab": {}
      },
      "source": [
        "lr = LinearRegression(featuresCol='features', labelCol='label', predictionCol='Prediction')"
      ],
      "execution_count": 0,
      "outputs": []
    },
    {
      "cell_type": "code",
      "metadata": {
        "id": "79wkNpN-Iqgc",
        "colab_type": "code",
        "colab": {}
      },
      "source": [
        "lrmodel = lr.fit(training)"
      ],
      "execution_count": 0,
      "outputs": []
    },
    {
      "cell_type": "code",
      "metadata": {
        "id": "EpNWzvQjIyDt",
        "colab_type": "code",
        "colab": {
          "base_uri": "https://localhost:8080/",
          "height": 34
        },
        "outputId": "572ccf1b-2362-4703-967a-c4d73cf5a4cb"
      },
      "source": [
        "lrmodel.coefficients"
      ],
      "execution_count": 22,
      "outputs": [
        {
          "output_type": "execute_result",
          "data": {
            "text/plain": [
              "DenseVector([0.0073, 0.8314, -0.8095, 2.4412, 0.5192, 1.1535, -0.2989, -0.5129, -0.6197, 0.6956])"
            ]
          },
          "metadata": {
            "tags": []
          },
          "execution_count": 22
        }
      ]
    },
    {
      "cell_type": "code",
      "metadata": {
        "id": "YO9GUAWDI5Ms",
        "colab_type": "code",
        "colab": {
          "base_uri": "https://localhost:8080/",
          "height": 34
        },
        "outputId": "f4e528f1-96a0-49d8-eade-ffa39d0540bb"
      },
      "source": [
        "lrmodel.intercept"
      ],
      "execution_count": 23,
      "outputs": [
        {
          "output_type": "execute_result",
          "data": {
            "text/plain": [
              "0.14228558260358093"
            ]
          },
          "metadata": {
            "tags": []
          },
          "execution_count": 23
        }
      ]
    },
    {
      "cell_type": "code",
      "metadata": {
        "id": "kDvX-_HfI7Cd",
        "colab_type": "code",
        "colab": {}
      },
      "source": [
        "training_summary = lrmodel.summary"
      ],
      "execution_count": 0,
      "outputs": []
    },
    {
      "cell_type": "code",
      "metadata": {
        "id": "iZ5cuZIvJDgN",
        "colab_type": "code",
        "colab": {
          "base_uri": "https://localhost:8080/",
          "height": 34
        },
        "outputId": "dacbecaf-c063-42ce-b53e-16c04b5245dc"
      },
      "source": [
        "training_summary.r2"
      ],
      "execution_count": 25,
      "outputs": [
        {
          "output_type": "execute_result",
          "data": {
            "text/plain": [
              "0.027839179518600154"
            ]
          },
          "metadata": {
            "tags": []
          },
          "execution_count": 25
        }
      ]
    },
    {
      "cell_type": "code",
      "metadata": {
        "id": "XwX6EbhzJGRy",
        "colab_type": "code",
        "colab": {
          "base_uri": "https://localhost:8080/",
          "height": 34
        },
        "outputId": "09746ce3-fdbe-4b9f-b7fc-d4a144414875"
      },
      "source": [
        "training_summary.rootMeanSquaredError"
      ],
      "execution_count": 26,
      "outputs": [
        {
          "output_type": "execute_result",
          "data": {
            "text/plain": [
              "10.16309157133015"
            ]
          },
          "metadata": {
            "tags": []
          },
          "execution_count": 26
        }
      ]
    },
    {
      "cell_type": "code",
      "metadata": {
        "id": "gWCQcBc9JLqV",
        "colab_type": "code",
        "colab": {}
      },
      "source": [
        "all_data = spark.read.format('libsvm').option(\"numFeatures\",\"10\").load('/content/drive/My Drive/Colab Notebooks/sample_linear_regression_data.txt')"
      ],
      "execution_count": 0,
      "outputs": []
    },
    {
      "cell_type": "code",
      "metadata": {
        "id": "pPpcjXgTJc0P",
        "colab_type": "code",
        "colab": {}
      },
      "source": [
        "train_data, test_data = all_data.randomSplit([0.7,0.3])"
      ],
      "execution_count": 0,
      "outputs": []
    },
    {
      "cell_type": "code",
      "metadata": {
        "id": "DHfONS65JktE",
        "colab_type": "code",
        "colab": {
          "base_uri": "https://localhost:8080/",
          "height": 459
        },
        "outputId": "95ad6ef8-37fb-48c4-9571-8d3060b4d6a6"
      },
      "source": [
        "train_data.show()"
      ],
      "execution_count": 33,
      "outputs": [
        {
          "output_type": "stream",
          "text": [
            "+-------------------+--------------------+\n",
            "|              label|            features|\n",
            "+-------------------+--------------------+\n",
            "|-28.571478869743427|(10,[0,1,2,3,4,5,...|\n",
            "|-26.805483428483072|(10,[0,1,2,3,4,5,...|\n",
            "|-23.487440120936512|(10,[0,1,2,3,4,5,...|\n",
            "|-22.949825936196074|(10,[0,1,2,3,4,5,...|\n",
            "|-22.837460416919342|(10,[0,1,2,3,4,5,...|\n",
            "|-21.432387764165806|(10,[0,1,2,3,4,5,...|\n",
            "|-20.212077258958672|(10,[0,1,2,3,4,5,...|\n",
            "|-20.057482615789212|(10,[0,1,2,3,4,5,...|\n",
            "|-19.872991038068406|(10,[0,1,2,3,4,5,...|\n",
            "|-19.782762789614537|(10,[0,1,2,3,4,5,...|\n",
            "|-19.402336030214553|(10,[0,1,2,3,4,5,...|\n",
            "| -19.16829262296376|(10,[0,1,2,3,4,5,...|\n",
            "|-17.494200356883344|(10,[0,1,2,3,4,5,...|\n",
            "| -17.32672073267595|(10,[0,1,2,3,4,5,...|\n",
            "|-17.065399625876015|(10,[0,1,2,3,4,5,...|\n",
            "| -16.71909683360509|(10,[0,1,2,3,4,5,...|\n",
            "|-16.692207021311106|(10,[0,1,2,3,4,5,...|\n",
            "| -16.26143027545273|(10,[0,1,2,3,4,5,...|\n",
            "|-16.151349351277112|(10,[0,1,2,3,4,5,...|\n",
            "| -16.08565904102149|(10,[0,1,2,3,4,5,...|\n",
            "+-------------------+--------------------+\n",
            "only showing top 20 rows\n",
            "\n"
          ],
          "name": "stdout"
        }
      ]
    },
    {
      "cell_type": "code",
      "metadata": {
        "id": "u_Ba-ZbCJlhe",
        "colab_type": "code",
        "colab": {
          "base_uri": "https://localhost:8080/",
          "height": 187
        },
        "outputId": "2796052d-0971-4cd6-f23b-1af54b5b7123"
      },
      "source": [
        "train_data.describe().show()"
      ],
      "execution_count": 34,
      "outputs": [
        {
          "output_type": "stream",
          "text": [
            "+-------+-------------------+\n",
            "|summary|              label|\n",
            "+-------+-------------------+\n",
            "|  count|                363|\n",
            "|   mean|0.23630704442854822|\n",
            "| stddev| 10.055632799685409|\n",
            "|    min|-28.571478869743427|\n",
            "|    max| 27.111027963108548|\n",
            "+-------+-------------------+\n",
            "\n"
          ],
          "name": "stdout"
        }
      ]
    },
    {
      "cell_type": "code",
      "metadata": {
        "id": "kIJBaAIdJ5bO",
        "colab_type": "code",
        "colab": {
          "base_uri": "https://localhost:8080/",
          "height": 187
        },
        "outputId": "cebd6e29-3560-4ac6-bc52-e273ef5f2c1f"
      },
      "source": [
        "test_data.describe().show()"
      ],
      "execution_count": 35,
      "outputs": [
        {
          "output_type": "stream",
          "text": [
            "+-------+-------------------+\n",
            "|summary|              label|\n",
            "+-------+-------------------+\n",
            "|  count|                138|\n",
            "|   mean|  0.311027846319763|\n",
            "| stddev| 11.015882799630226|\n",
            "|    min|-28.046018037776633|\n",
            "|    max|  27.78383192005107|\n",
            "+-------+-------------------+\n",
            "\n"
          ],
          "name": "stdout"
        }
      ]
    },
    {
      "cell_type": "code",
      "metadata": {
        "id": "kyjgcNppJ95w",
        "colab_type": "code",
        "colab": {}
      },
      "source": [
        "correct_model = lr.fit(train_data)"
      ],
      "execution_count": 0,
      "outputs": []
    },
    {
      "cell_type": "code",
      "metadata": {
        "id": "hT8ZU2xaKGX3",
        "colab_type": "code",
        "colab": {}
      },
      "source": [
        "test_result = correct_model.evaluate(test_data)"
      ],
      "execution_count": 0,
      "outputs": []
    },
    {
      "cell_type": "code",
      "metadata": {
        "id": "MNQX2uBUKLRy",
        "colab_type": "code",
        "colab": {
          "base_uri": "https://localhost:8080/",
          "height": 459
        },
        "outputId": "24b7672d-fc2c-44d9-d8cb-eb998799707b"
      },
      "source": [
        "test_result.residuals.show()"
      ],
      "execution_count": 40,
      "outputs": [
        {
          "output_type": "stream",
          "text": [
            "+-------------------+\n",
            "|          residuals|\n",
            "+-------------------+\n",
            "|-28.075540508745366|\n",
            "| -25.24803159524898|\n",
            "| -23.37476717376433|\n",
            "| -20.45582219506037|\n",
            "|-20.358338885964223|\n",
            "| -18.99180013311991|\n",
            "|-20.537192092331637|\n",
            "| -18.14406179176423|\n",
            "|-19.800095241361404|\n",
            "|-14.901393864842722|\n",
            "|-18.500916527332816|\n",
            "|-17.154333998340892|\n",
            "|-15.462131689313656|\n",
            "| -16.64955687168152|\n",
            "|-13.780481492352491|\n",
            "|-14.688485876348796|\n",
            "| -12.78058181466493|\n",
            "|-13.528047401472989|\n",
            "|-15.162486484320217|\n",
            "|-12.983908149157998|\n",
            "+-------------------+\n",
            "only showing top 20 rows\n",
            "\n"
          ],
          "name": "stdout"
        }
      ]
    },
    {
      "cell_type": "code",
      "metadata": {
        "id": "HXlC2JX_KOI7",
        "colab_type": "code",
        "colab": {
          "base_uri": "https://localhost:8080/",
          "height": 34
        },
        "outputId": "3a2c6337-ce5e-4bf7-e801-f47b93881f7c"
      },
      "source": [
        "test_result.rootMeanSquaredError"
      ],
      "execution_count": 42,
      "outputs": [
        {
          "output_type": "execute_result",
          "data": {
            "text/plain": [
              "10.943444520642846"
            ]
          },
          "metadata": {
            "tags": []
          },
          "execution_count": 42
        }
      ]
    },
    {
      "cell_type": "code",
      "metadata": {
        "id": "DnKwbdsJKT9l",
        "colab_type": "code",
        "colab": {}
      },
      "source": [
        "unlabeled_data = test_data.select('features')"
      ],
      "execution_count": 0,
      "outputs": []
    },
    {
      "cell_type": "code",
      "metadata": {
        "id": "GZ_YYy9gKhxz",
        "colab_type": "code",
        "colab": {
          "base_uri": "https://localhost:8080/",
          "height": 459
        },
        "outputId": "c6eb2df7-c05b-427d-a0e9-ab099e608dd3"
      },
      "source": [
        "unlabeled_data.show()"
      ],
      "execution_count": 44,
      "outputs": [
        {
          "output_type": "stream",
          "text": [
            "+--------------------+\n",
            "|            features|\n",
            "+--------------------+\n",
            "|(10,[0,1,2,3,4,5,...|\n",
            "|(10,[0,1,2,3,4,5,...|\n",
            "|(10,[0,1,2,3,4,5,...|\n",
            "|(10,[0,1,2,3,4,5,...|\n",
            "|(10,[0,1,2,3,4,5,...|\n",
            "|(10,[0,1,2,3,4,5,...|\n",
            "|(10,[0,1,2,3,4,5,...|\n",
            "|(10,[0,1,2,3,4,5,...|\n",
            "|(10,[0,1,2,3,4,5,...|\n",
            "|(10,[0,1,2,3,4,5,...|\n",
            "|(10,[0,1,2,3,4,5,...|\n",
            "|(10,[0,1,2,3,4,5,...|\n",
            "|(10,[0,1,2,3,4,5,...|\n",
            "|(10,[0,1,2,3,4,5,...|\n",
            "|(10,[0,1,2,3,4,5,...|\n",
            "|(10,[0,1,2,3,4,5,...|\n",
            "|(10,[0,1,2,3,4,5,...|\n",
            "|(10,[0,1,2,3,4,5,...|\n",
            "|(10,[0,1,2,3,4,5,...|\n",
            "|(10,[0,1,2,3,4,5,...|\n",
            "+--------------------+\n",
            "only showing top 20 rows\n",
            "\n"
          ],
          "name": "stdout"
        }
      ]
    },
    {
      "cell_type": "code",
      "metadata": {
        "id": "UG3C4GhyKkMg",
        "colab_type": "code",
        "colab": {}
      },
      "source": [
        "predictions = correct_model.transform(unlabeled_data)"
      ],
      "execution_count": 0,
      "outputs": []
    },
    {
      "cell_type": "code",
      "metadata": {
        "id": "4SMMICUVKrkn",
        "colab_type": "code",
        "colab": {
          "base_uri": "https://localhost:8080/",
          "height": 459
        },
        "outputId": "67172a7c-a2bd-4256-bdd3-b0e25fb7faee"
      },
      "source": [
        "predictions.show()"
      ],
      "execution_count": 46,
      "outputs": [
        {
          "output_type": "stream",
          "text": [
            "+--------------------+--------------------+\n",
            "|            features|          Prediction|\n",
            "+--------------------+--------------------+\n",
            "|(10,[0,1,2,3,4,5,...|0.029522470968730993|\n",
            "|(10,[0,1,2,3,4,5,...|  -1.488175587352741|\n",
            "|(10,[0,1,2,3,4,5,...|-0.13611691655864017|\n",
            "|(10,[0,1,2,3,4,5,...|  0.5712614207869467|\n",
            "|(10,[0,1,2,3,4,5,...|  0.6910202705925038|\n",
            "|(10,[0,1,2,3,4,5,...| 0.14587766022132678|\n",
            "|(10,[0,1,2,3,4,5,...|   2.261978526327007|\n",
            "|(10,[0,1,2,3,4,5,...|  0.3404356030997146|\n",
            "|(10,[0,1,2,3,4,5,...|  2.3714206704218976|\n",
            "|(10,[0,1,2,3,4,5,...|  -2.125098399366825|\n",
            "|(10,[0,1,2,3,4,5,...|  2.7202314947095143|\n",
            "|(10,[0,1,2,3,4,5,...|   1.422245726101646|\n",
            "|(10,[0,1,2,3,4,5,...| 0.08627396600135882|\n",
            "|(10,[0,1,2,3,4,5,...|  1.2900119918488393|\n",
            "|(10,[0,1,2,3,4,5,...| -1.5683896630267629|\n",
            "|(10,[0,1,2,3,4,5,...| -0.3679970981936379|\n",
            "|(10,[0,1,2,3,4,5,...| -1.9821764382661966|\n",
            "|(10,[0,1,2,3,4,5,...| 0.10745262558223223|\n",
            "|(10,[0,1,2,3,4,5,...|   2.240263380949797|\n",
            "|(10,[0,1,2,3,4,5,...|  0.5046279377064995|\n",
            "+--------------------+--------------------+\n",
            "only showing top 20 rows\n",
            "\n"
          ],
          "name": "stdout"
        }
      ]
    }
  ]
}